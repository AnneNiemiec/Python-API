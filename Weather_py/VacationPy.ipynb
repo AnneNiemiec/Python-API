{
 "cells": [
  {
   "cell_type": "code",
   "execution_count": 91,
   "metadata": {},
   "outputs": [],
   "source": [
    "# Study partner is Nicole Lund.  Worked on Pseudo code together and hiding api keys.\n",
    "# Received assistance from instructor via office hours and tutoring sessions.\n",
    "# The starter code and pseudo code for this challenge was provided and can be reviewed in data folder \n",
    "# Resources: past class assignments and Google searches\n"
   ]
  },
  {
   "cell_type": "markdown",
   "metadata": {},
   "source": [
    "# VacationPy\n",
    "----\n",
    "\n",
    "#### Note\n",
    "* Keep an eye on your API usage. Use https://developers.google.com/maps/reporting/gmp-reporting as reference for how to monitor your usage and billing.\n",
    "\n",
    "* Instructions have been included for each segment. You do not have to follow them exactly, but they are included to help you think through the steps."
   ]
  },
  {
   "cell_type": "code",
   "execution_count": 92,
   "metadata": {},
   "outputs": [
    {
     "output_type": "stream",
     "name": "stdout",
     "text": [
      "Requirement already satisfied: gmaps in c:\\users\\brad\\anaconda3\\envs\\pythondata\\lib\\site-packages (0.9.0)\n",
      "Requirement already satisfied: six in c:\\users\\brad\\anaconda3\\envs\\pythondata\\lib\\site-packages (from gmaps) (1.15.0)\n",
      "Requirement already satisfied: traitlets>=4.3.0 in c:\\users\\brad\\anaconda3\\envs\\pythondata\\lib\\site-packages (from gmaps) (5.0.5)\n",
      "Requirement already satisfied: geojson>=2.0.0 in c:\\users\\brad\\anaconda3\\envs\\pythondata\\lib\\site-packages (from gmaps) (2.5.0)\n",
      "Requirement already satisfied: ipywidgets>=7.0.0 in c:\\users\\brad\\anaconda3\\envs\\pythondata\\lib\\site-packages (from gmaps) (7.5.1)\n",
      "Requirement already satisfied: ipython>=5.3.0 in c:\\users\\brad\\anaconda3\\envs\\pythondata\\lib\\site-packages (from gmaps) (7.19.0)\n",
      "Requirement already satisfied: ipython-genutils in c:\\users\\brad\\anaconda3\\envs\\pythondata\\lib\\site-packages (from traitlets>=4.3.0->gmaps) (0.2.0)\n",
      "Requirement already satisfied: nbformat>=4.2.0 in c:\\users\\brad\\anaconda3\\envs\\pythondata\\lib\\site-packages (from ipywidgets>=7.0.0->gmaps) (5.0.8)\n",
      "Requirement already satisfied: ipykernel>=4.5.1 in c:\\users\\brad\\anaconda3\\envs\\pythondata\\lib\\site-packages (from ipywidgets>=7.0.0->gmaps) (5.3.4)\n",
      "Requirement already satisfied: widgetsnbextension~=3.5.0 in c:\\users\\brad\\anaconda3\\envs\\pythondata\\lib\\site-packages (from ipywidgets>=7.0.0->gmaps) (3.5.1)\n",
      "Requirement already satisfied: jedi>=0.10 in c:\\users\\brad\\anaconda3\\envs\\pythondata\\lib\\site-packages (from ipython>=5.3.0->gmaps) (0.17.1)\n",
      "Requirement already satisfied: setuptools>=18.5 in c:\\users\\brad\\anaconda3\\envs\\pythondata\\lib\\site-packages (from ipython>=5.3.0->gmaps) (50.3.1.post20201107)\n",
      "Requirement already satisfied: backcall in c:\\users\\brad\\anaconda3\\envs\\pythondata\\lib\\site-packages (from ipython>=5.3.0->gmaps) (0.2.0)\n",
      "Requirement already satisfied: colorama; sys_platform == \"win32\" in c:\\users\\brad\\anaconda3\\envs\\pythondata\\lib\\site-packages (from ipython>=5.3.0->gmaps) (0.4.4)\n",
      "Requirement already satisfied: prompt-toolkit!=3.0.0,!=3.0.1,<3.1.0,>=2.0.0 in c:\\users\\brad\\anaconda3\\envs\\pythondata\\lib\\site-packages (from ipython>=5.3.0->gmaps) (3.0.8)\n",
      "Requirement already satisfied: decorator in c:\\users\\brad\\anaconda3\\envs\\pythondata\\lib\\site-packages (from ipython>=5.3.0->gmaps) (4.4.2)\n",
      "Requirement already satisfied: pygments in c:\\users\\brad\\anaconda3\\envs\\pythondata\\lib\\site-packages (from ipython>=5.3.0->gmaps) (2.7.2)\n",
      "Requirement already satisfied: pickleshare in c:\\users\\brad\\anaconda3\\envs\\pythondata\\lib\\site-packages (from ipython>=5.3.0->gmaps) (0.7.5)\n",
      "Requirement already satisfied: jupyter-core in c:\\users\\brad\\anaconda3\\envs\\pythondata\\lib\\site-packages (from nbformat>=4.2.0->ipywidgets>=7.0.0->gmaps) (4.6.3)\n",
      "Requirement already satisfied: jsonschema!=2.5.0,>=2.4 in c:\\users\\brad\\anaconda3\\envs\\pythondata\\lib\\site-packages (from nbformat>=4.2.0->ipywidgets>=7.0.0->gmaps) (3.2.0)\n",
      "Requirement already satisfied: jupyter-client in c:\\users\\brad\\anaconda3\\envs\\pythondata\\lib\\site-packages (from ipykernel>=4.5.1->ipywidgets>=7.0.0->gmaps) (6.1.7)\n",
      "Requirement already satisfied: tornado>=4.2 in c:\\users\\brad\\anaconda3\\envs\\pythondata\\lib\\site-packages (from ipykernel>=4.5.1->ipywidgets>=7.0.0->gmaps) (6.0.4)\n",
      "Requirement already satisfied: notebook>=4.4.1 in c:\\users\\brad\\anaconda3\\envs\\pythondata\\lib\\site-packages (from widgetsnbextension~=3.5.0->ipywidgets>=7.0.0->gmaps) (6.1.4)\n",
      "Requirement already satisfied: parso<0.8.0,>=0.7.0 in c:\\users\\brad\\anaconda3\\envs\\pythondata\\lib\\site-packages (from jedi>=0.10->ipython>=5.3.0->gmaps) (0.7.0)\n",
      "Requirement already satisfied: wcwidth in c:\\users\\brad\\anaconda3\\envs\\pythondata\\lib\\site-packages (from prompt-toolkit!=3.0.0,!=3.0.1,<3.1.0,>=2.0.0->ipython>=5.3.0->gmaps) (0.2.5)\n",
      "Requirement already satisfied: pywin32>=1.0; sys_platform == \"win32\" in c:\\users\\brad\\anaconda3\\envs\\pythondata\\lib\\site-packages (from jupyter-core->nbformat>=4.2.0->ipywidgets>=7.0.0->gmaps) (227)\n",
      "Requirement already satisfied: importlib-metadata; python_version < \"3.8\" in c:\\users\\brad\\anaconda3\\envs\\pythondata\\lib\\site-packages (from jsonschema!=2.5.0,>=2.4->nbformat>=4.2.0->ipywidgets>=7.0.0->gmaps) (2.0.0)\n",
      "Requirement already satisfied: attrs>=17.4.0 in c:\\users\\brad\\anaconda3\\envs\\pythondata\\lib\\site-packages (from jsonschema!=2.5.0,>=2.4->nbformat>=4.2.0->ipywidgets>=7.0.0->gmaps) (20.3.0)\n",
      "Requirement already satisfied: pyrsistent>=0.14.0 in c:\\users\\brad\\anaconda3\\envs\\pythondata\\lib\\site-packages (from jsonschema!=2.5.0,>=2.4->nbformat>=4.2.0->ipywidgets>=7.0.0->gmaps) (0.17.3)\n",
      "Requirement already satisfied: pyzmq>=13 in c:\\users\\brad\\anaconda3\\envs\\pythondata\\lib\\site-packages (from jupyter-client->ipykernel>=4.5.1->ipywidgets>=7.0.0->gmaps) (19.0.2)\n",
      "Requirement already satisfied: python-dateutil>=2.1 in c:\\users\\brad\\anaconda3\\envs\\pythondata\\lib\\site-packages (from jupyter-client->ipykernel>=4.5.1->ipywidgets>=7.0.0->gmaps) (2.8.1)\n",
      "Requirement already satisfied: argon2-cffi in c:\\users\\brad\\anaconda3\\envs\\pythondata\\lib\\site-packages (from notebook>=4.4.1->widgetsnbextension~=3.5.0->ipywidgets>=7.0.0->gmaps) (20.1.0)\n",
      "Requirement already satisfied: terminado>=0.8.3 in c:\\users\\brad\\anaconda3\\envs\\pythondata\\lib\\site-packages (from notebook>=4.4.1->widgetsnbextension~=3.5.0->ipywidgets>=7.0.0->gmaps) (0.9.1)\n",
      "Requirement already satisfied: prometheus-client in c:\\users\\brad\\anaconda3\\envs\\pythondata\\lib\\site-packages (from notebook>=4.4.1->widgetsnbextension~=3.5.0->ipywidgets>=7.0.0->gmaps) (0.8.0)\n",
      "Requirement already satisfied: jinja2 in c:\\users\\brad\\anaconda3\\envs\\pythondata\\lib\\site-packages (from notebook>=4.4.1->widgetsnbextension~=3.5.0->ipywidgets>=7.0.0->gmaps) (2.11.2)\n",
      "Requirement already satisfied: nbconvert in c:\\users\\brad\\anaconda3\\envs\\pythondata\\lib\\site-packages (from notebook>=4.4.1->widgetsnbextension~=3.5.0->ipywidgets>=7.0.0->gmaps) (6.0.7)\n",
      "Requirement already satisfied: Send2Trash in c:\\users\\brad\\anaconda3\\envs\\pythondata\\lib\\site-packages (from notebook>=4.4.1->widgetsnbextension~=3.5.0->ipywidgets>=7.0.0->gmaps) (1.5.0)\n",
      "Requirement already satisfied: zipp>=0.5 in c:\\users\\brad\\anaconda3\\envs\\pythondata\\lib\\site-packages (from importlib-metadata; python_version < \"3.8\"->jsonschema!=2.5.0,>=2.4->nbformat>=4.2.0->ipywidgets>=7.0.0->gmaps) (3.4.0)\n",
      "Requirement already satisfied: cffi>=1.0.0 in c:\\users\\brad\\anaconda3\\envs\\pythondata\\lib\\site-packages (from argon2-cffi->notebook>=4.4.1->widgetsnbextension~=3.5.0->ipywidgets>=7.0.0->gmaps) (1.14.3)\n",
      "Requirement already satisfied: pywinpty>=0.5 in c:\\users\\brad\\anaconda3\\envs\\pythondata\\lib\\site-packages (from terminado>=0.8.3->notebook>=4.4.1->widgetsnbextension~=3.5.0->ipywidgets>=7.0.0->gmaps) (0.5.7)\n",
      "Requirement already satisfied: MarkupSafe>=0.23 in c:\\users\\brad\\anaconda3\\envs\\pythondata\\lib\\site-packages (from jinja2->notebook>=4.4.1->widgetsnbextension~=3.5.0->ipywidgets>=7.0.0->gmaps) (1.1.1)\n",
      "Requirement already satisfied: entrypoints>=0.2.2 in c:\\users\\brad\\anaconda3\\envs\\pythondata\\lib\\site-packages (from nbconvert->notebook>=4.4.1->widgetsnbextension~=3.5.0->ipywidgets>=7.0.0->gmaps) (0.3)\n",
      "Requirement already satisfied: jupyterlab-pygments in c:\\users\\brad\\anaconda3\\envs\\pythondata\\lib\\site-packages (from nbconvert->notebook>=4.4.1->widgetsnbextension~=3.5.0->ipywidgets>=7.0.0->gmaps) (0.1.2)\n",
      "Requirement already satisfied: defusedxml in c:\\users\\brad\\anaconda3\\envs\\pythondata\\lib\\site-packages (from nbconvert->notebook>=4.4.1->widgetsnbextension~=3.5.0->ipywidgets>=7.0.0->gmaps) (0.6.0)\n",
      "Requirement already satisfied: testpath in c:\\users\\brad\\anaconda3\\envs\\pythondata\\lib\\site-packages (from nbconvert->notebook>=4.4.1->widgetsnbextension~=3.5.0->ipywidgets>=7.0.0->gmaps) (0.4.4)\n",
      "Requirement already satisfied: mistune<2,>=0.8.1 in c:\\users\\brad\\anaconda3\\envs\\pythondata\\lib\\site-packages (from nbconvert->notebook>=4.4.1->widgetsnbextension~=3.5.0->ipywidgets>=7.0.0->gmaps) (0.8.4)\n",
      "Requirement already satisfied: nbclient<0.6.0,>=0.5.0 in c:\\users\\brad\\anaconda3\\envs\\pythondata\\lib\\site-packages (from nbconvert->notebook>=4.4.1->widgetsnbextension~=3.5.0->ipywidgets>=7.0.0->gmaps) (0.5.1)\n",
      "Requirement already satisfied: bleach in c:\\users\\brad\\anaconda3\\envs\\pythondata\\lib\\site-packages (from nbconvert->notebook>=4.4.1->widgetsnbextension~=3.5.0->ipywidgets>=7.0.0->gmaps) (3.2.1)\n",
      "Requirement already satisfied: pandocfilters>=1.4.1 in c:\\users\\brad\\anaconda3\\envs\\pythondata\\lib\\site-packages (from nbconvert->notebook>=4.4.1->widgetsnbextension~=3.5.0->ipywidgets>=7.0.0->gmaps) (1.4.3)\n",
      "Requirement already satisfied: pycparser in c:\\users\\brad\\anaconda3\\envs\\pythondata\\lib\\site-packages (from cffi>=1.0.0->argon2-cffi->notebook>=4.4.1->widgetsnbextension~=3.5.0->ipywidgets>=7.0.0->gmaps) (2.20)\n",
      "Requirement already satisfied: nest-asyncio in c:\\users\\brad\\anaconda3\\envs\\pythondata\\lib\\site-packages (from nbclient<0.6.0,>=0.5.0->nbconvert->notebook>=4.4.1->widgetsnbextension~=3.5.0->ipywidgets>=7.0.0->gmaps) (1.4.2)\n",
      "Requirement already satisfied: async-generator in c:\\users\\brad\\anaconda3\\envs\\pythondata\\lib\\site-packages (from nbclient<0.6.0,>=0.5.0->nbconvert->notebook>=4.4.1->widgetsnbextension~=3.5.0->ipywidgets>=7.0.0->gmaps) (1.10)\n",
      "Requirement already satisfied: webencodings in c:\\users\\brad\\anaconda3\\envs\\pythondata\\lib\\site-packages (from bleach->nbconvert->notebook>=4.4.1->widgetsnbextension~=3.5.0->ipywidgets>=7.0.0->gmaps) (0.5.1)\n",
      "Requirement already satisfied: packaging in c:\\users\\brad\\anaconda3\\envs\\pythondata\\lib\\site-packages (from bleach->nbconvert->notebook>=4.4.1->widgetsnbextension~=3.5.0->ipywidgets>=7.0.0->gmaps) (20.4)\n",
      "Requirement already satisfied: pyparsing>=2.0.2 in c:\\users\\brad\\anaconda3\\envs\\pythondata\\lib\\site-packages (from packaging->bleach->nbconvert->notebook>=4.4.1->widgetsnbextension~=3.5.0->ipywidgets>=7.0.0->gmaps) (2.4.7)\n"
     ]
    }
   ],
   "source": [
    "!pip install gmaps"
   ]
  },
  {
   "cell_type": "code",
   "execution_count": 93,
   "metadata": {},
   "outputs": [],
   "source": [
    "# Dependencies and Setup\n",
    "import matplotlib.pyplot as plt\n",
    "import pandas as pd\n",
    "import numpy as np\n",
    "import requests\n",
    "import gmaps\n",
    "import os\n",
    "\n",
    "# Import API key\n",
    "from api_keys import g_key\n",
    "\n",
    "# Incorporated citipy to determine city based on latitude and longitude\n",
    "from citipy import citipy\n",
    "if g_key == \"YOUR KEY HERE!\":\n",
    "    import sys\n",
    "    sys.path.append(r\"C:\\Users\\Brad\\Documents\\GitHub\\Untracked_Files\")\n",
    "    from api_keys_ATN import g_key\n",
    "# print(g_key)\n",
    "\n",
    "# Output File (CSV)\n",
    "output_data_file = \"output_data/cities.csv\"\n",
    "\n",
    "# Range of latitudes and longitudes\n",
    "lat_range = (-90, 90)\n",
    "lng_range = (-180, 180)"
   ]
  },
  {
   "cell_type": "markdown",
   "metadata": {},
   "source": [
    "### Store Part I results into DataFrame\n",
    "* Load the csv exported in Part I to a DataFrame"
   ]
  },
  {
   "cell_type": "code",
   "execution_count": 94,
   "metadata": {},
   "outputs": [
    {
     "output_type": "execute_result",
     "data": {
      "text/plain": [
       "           city  latitude  longitude  temperature  humidity  clouds  \\\n",
       "0     hithadhoo   -0.6000    73.0833        28.17        73      67   \n",
       "1      cherskiy   68.7500   161.3000        -4.83        96     100   \n",
       "2        vostok   46.4856   135.8833         6.60        54     100   \n",
       "3     busselton  -33.6500   115.3333        15.00        77      93   \n",
       "4         lalin   42.7167    -8.1167        16.67        67      20   \n",
       "..          ...       ...        ...          ...       ...     ...   \n",
       "557  piranshahr   36.7010    45.1413        14.88        58      40   \n",
       "558  troitskoye   52.9821    84.6757        -2.47        86      23   \n",
       "559      tiznit   29.5833    -9.5000        16.63        60       8   \n",
       "560     formosa  -26.1775   -58.1781        22.00        78      75   \n",
       "561        vila   42.0304    -8.1588        15.56        80      61   \n",
       "\n",
       "     wind speed        date country  \n",
       "0          3.21  1619117764      MV  \n",
       "1          6.00  1619117765      RU  \n",
       "2          1.76  1619117765      RU  \n",
       "3          1.79  1619117552      AU  \n",
       "4          2.57  1619117766      ES  \n",
       "..          ...         ...     ...  \n",
       "557        2.77  1619117964      IR  \n",
       "558        4.38  1619117965      RU  \n",
       "559        4.31  1619117965      MA  \n",
       "560        9.26  1619117838      AR  \n",
       "561        0.89  1619117966      PT  \n",
       "\n",
       "[562 rows x 9 columns]"
      ],
      "text/html": "<div>\n<style scoped>\n    .dataframe tbody tr th:only-of-type {\n        vertical-align: middle;\n    }\n\n    .dataframe tbody tr th {\n        vertical-align: top;\n    }\n\n    .dataframe thead th {\n        text-align: right;\n    }\n</style>\n<table border=\"1\" class=\"dataframe\">\n  <thead>\n    <tr style=\"text-align: right;\">\n      <th></th>\n      <th>city</th>\n      <th>latitude</th>\n      <th>longitude</th>\n      <th>temperature</th>\n      <th>humidity</th>\n      <th>clouds</th>\n      <th>wind speed</th>\n      <th>date</th>\n      <th>country</th>\n    </tr>\n  </thead>\n  <tbody>\n    <tr>\n      <th>0</th>\n      <td>hithadhoo</td>\n      <td>-0.6000</td>\n      <td>73.0833</td>\n      <td>28.17</td>\n      <td>73</td>\n      <td>67</td>\n      <td>3.21</td>\n      <td>1619117764</td>\n      <td>MV</td>\n    </tr>\n    <tr>\n      <th>1</th>\n      <td>cherskiy</td>\n      <td>68.7500</td>\n      <td>161.3000</td>\n      <td>-4.83</td>\n      <td>96</td>\n      <td>100</td>\n      <td>6.00</td>\n      <td>1619117765</td>\n      <td>RU</td>\n    </tr>\n    <tr>\n      <th>2</th>\n      <td>vostok</td>\n      <td>46.4856</td>\n      <td>135.8833</td>\n      <td>6.60</td>\n      <td>54</td>\n      <td>100</td>\n      <td>1.76</td>\n      <td>1619117765</td>\n      <td>RU</td>\n    </tr>\n    <tr>\n      <th>3</th>\n      <td>busselton</td>\n      <td>-33.6500</td>\n      <td>115.3333</td>\n      <td>15.00</td>\n      <td>77</td>\n      <td>93</td>\n      <td>1.79</td>\n      <td>1619117552</td>\n      <td>AU</td>\n    </tr>\n    <tr>\n      <th>4</th>\n      <td>lalin</td>\n      <td>42.7167</td>\n      <td>-8.1167</td>\n      <td>16.67</td>\n      <td>67</td>\n      <td>20</td>\n      <td>2.57</td>\n      <td>1619117766</td>\n      <td>ES</td>\n    </tr>\n    <tr>\n      <th>...</th>\n      <td>...</td>\n      <td>...</td>\n      <td>...</td>\n      <td>...</td>\n      <td>...</td>\n      <td>...</td>\n      <td>...</td>\n      <td>...</td>\n      <td>...</td>\n    </tr>\n    <tr>\n      <th>557</th>\n      <td>piranshahr</td>\n      <td>36.7010</td>\n      <td>45.1413</td>\n      <td>14.88</td>\n      <td>58</td>\n      <td>40</td>\n      <td>2.77</td>\n      <td>1619117964</td>\n      <td>IR</td>\n    </tr>\n    <tr>\n      <th>558</th>\n      <td>troitskoye</td>\n      <td>52.9821</td>\n      <td>84.6757</td>\n      <td>-2.47</td>\n      <td>86</td>\n      <td>23</td>\n      <td>4.38</td>\n      <td>1619117965</td>\n      <td>RU</td>\n    </tr>\n    <tr>\n      <th>559</th>\n      <td>tiznit</td>\n      <td>29.5833</td>\n      <td>-9.5000</td>\n      <td>16.63</td>\n      <td>60</td>\n      <td>8</td>\n      <td>4.31</td>\n      <td>1619117965</td>\n      <td>MA</td>\n    </tr>\n    <tr>\n      <th>560</th>\n      <td>formosa</td>\n      <td>-26.1775</td>\n      <td>-58.1781</td>\n      <td>22.00</td>\n      <td>78</td>\n      <td>75</td>\n      <td>9.26</td>\n      <td>1619117838</td>\n      <td>AR</td>\n    </tr>\n    <tr>\n      <th>561</th>\n      <td>vila</td>\n      <td>42.0304</td>\n      <td>-8.1588</td>\n      <td>15.56</td>\n      <td>80</td>\n      <td>61</td>\n      <td>0.89</td>\n      <td>1619117966</td>\n      <td>PT</td>\n    </tr>\n  </tbody>\n</table>\n<p>562 rows × 9 columns</p>\n</div>"
     },
     "metadata": {},
     "execution_count": 94
    }
   ],
   "source": [
    "cities_loop_pd=pd.read_csv('cities_loop.csv')\n",
    "cities_loop_pd"
   ]
  },
  {
   "cell_type": "markdown",
   "metadata": {},
   "source": [
    "### Humidity Heatmap\n",
    "* Configure gmaps.\n",
    "* Use the Lat and Lng as locations and Humidity as the weight.\n",
    "* Add Heatmap layer to map."
   ]
  },
  {
   "cell_type": "code",
   "execution_count": 95,
   "metadata": {},
   "outputs": [],
   "source": [
    "gmaps.configure(api_key=g_key)"
   ]
  },
  {
   "cell_type": "code",
   "execution_count": 96,
   "metadata": {},
   "outputs": [
    {
     "output_type": "display_data",
     "data": {
      "text/plain": "Figure(layout=FigureLayout(height='420px'))",
      "application/vnd.jupyter.widget-view+json": {
       "version_major": 2,
       "version_minor": 0,
       "model_id": "35dc050b2a90452fa0a60e31a8615809"
      }
     },
     "metadata": {}
    }
   ],
   "source": [
    "# Store 'Lat' and 'Lng' into  locations \n",
    "locations = cities_loop_pd[[\"latitude\", \"longitude\"]].astype(float)\n",
    "\n",
    "humidity_rate = cities_loop_pd[\"humidity\"].astype(float)\n",
    "\n",
    "fig = gmaps.figure()\n",
    "\n",
    "heat_layer = gmaps.heatmap_layer(locations, weights=humidity_rate, \n",
    "                                 dissipating=False, max_intensity=100,\n",
    "                                 point_radius = 1)\n",
    "\n",
    "fig.add_layer(heat_layer)\n",
    "\n",
    "fig"
   ]
  },
  {
   "cell_type": "markdown",
   "metadata": {},
   "source": [
    "### Create new DataFrame fitting weather criteria\n",
    "* Narrow down the cities to fit weather conditions.\n",
    "* Drop any rows will null values."
   ]
  },
  {
   "cell_type": "code",
   "execution_count": 97,
   "metadata": {},
   "outputs": [
    {
     "output_type": "execute_result",
     "data": {
      "text/plain": [
       "            city  latitude  longitude  temperature  humidity  clouds  \\\n",
       "195         doha   25.2867    51.5333        30.56        48       0   \n",
       "271    taoudenni   22.6783    -3.9836        36.19         7       0   \n",
       "349        paita   -5.0892   -81.1144        31.00        48       0   \n",
       "356         atar   20.5169   -13.0499        36.00        23       0   \n",
       "363     buraydah   26.3260    43.9750        31.00        18       0   \n",
       "408     tessalit   20.1986     1.0114        31.87         6       1   \n",
       "414       riyadh   24.6877    46.7219        32.00        13       0   \n",
       "467       bafata   12.1667   -14.7500        35.68        21       9   \n",
       "509        adrar   20.5022   -10.0711        31.00         8       0   \n",
       "527  santa marta   11.2408   -74.1990        31.67        63       8   \n",
       "\n",
       "     wind speed        date country  \n",
       "195        1.03  1619117834      QA  \n",
       "271        3.10  1619117860      ML  \n",
       "349        7.72  1619117888      PE  \n",
       "356        1.03  1619117891      MR  \n",
       "363        3.60  1619117893      SA  \n",
       "408        4.63  1619117909      ML  \n",
       "414        2.06  1619117865      SA  \n",
       "467        5.10  1619117931      GW  \n",
       "509        4.33  1619117947      MR  \n",
       "527        0.89  1619117954      CO  "
      ],
      "text/html": "<div>\n<style scoped>\n    .dataframe tbody tr th:only-of-type {\n        vertical-align: middle;\n    }\n\n    .dataframe tbody tr th {\n        vertical-align: top;\n    }\n\n    .dataframe thead th {\n        text-align: right;\n    }\n</style>\n<table border=\"1\" class=\"dataframe\">\n  <thead>\n    <tr style=\"text-align: right;\">\n      <th></th>\n      <th>city</th>\n      <th>latitude</th>\n      <th>longitude</th>\n      <th>temperature</th>\n      <th>humidity</th>\n      <th>clouds</th>\n      <th>wind speed</th>\n      <th>date</th>\n      <th>country</th>\n    </tr>\n  </thead>\n  <tbody>\n    <tr>\n      <th>195</th>\n      <td>doha</td>\n      <td>25.2867</td>\n      <td>51.5333</td>\n      <td>30.56</td>\n      <td>48</td>\n      <td>0</td>\n      <td>1.03</td>\n      <td>1619117834</td>\n      <td>QA</td>\n    </tr>\n    <tr>\n      <th>271</th>\n      <td>taoudenni</td>\n      <td>22.6783</td>\n      <td>-3.9836</td>\n      <td>36.19</td>\n      <td>7</td>\n      <td>0</td>\n      <td>3.10</td>\n      <td>1619117860</td>\n      <td>ML</td>\n    </tr>\n    <tr>\n      <th>349</th>\n      <td>paita</td>\n      <td>-5.0892</td>\n      <td>-81.1144</td>\n      <td>31.00</td>\n      <td>48</td>\n      <td>0</td>\n      <td>7.72</td>\n      <td>1619117888</td>\n      <td>PE</td>\n    </tr>\n    <tr>\n      <th>356</th>\n      <td>atar</td>\n      <td>20.5169</td>\n      <td>-13.0499</td>\n      <td>36.00</td>\n      <td>23</td>\n      <td>0</td>\n      <td>1.03</td>\n      <td>1619117891</td>\n      <td>MR</td>\n    </tr>\n    <tr>\n      <th>363</th>\n      <td>buraydah</td>\n      <td>26.3260</td>\n      <td>43.9750</td>\n      <td>31.00</td>\n      <td>18</td>\n      <td>0</td>\n      <td>3.60</td>\n      <td>1619117893</td>\n      <td>SA</td>\n    </tr>\n    <tr>\n      <th>408</th>\n      <td>tessalit</td>\n      <td>20.1986</td>\n      <td>1.0114</td>\n      <td>31.87</td>\n      <td>6</td>\n      <td>1</td>\n      <td>4.63</td>\n      <td>1619117909</td>\n      <td>ML</td>\n    </tr>\n    <tr>\n      <th>414</th>\n      <td>riyadh</td>\n      <td>24.6877</td>\n      <td>46.7219</td>\n      <td>32.00</td>\n      <td>13</td>\n      <td>0</td>\n      <td>2.06</td>\n      <td>1619117865</td>\n      <td>SA</td>\n    </tr>\n    <tr>\n      <th>467</th>\n      <td>bafata</td>\n      <td>12.1667</td>\n      <td>-14.7500</td>\n      <td>35.68</td>\n      <td>21</td>\n      <td>9</td>\n      <td>5.10</td>\n      <td>1619117931</td>\n      <td>GW</td>\n    </tr>\n    <tr>\n      <th>509</th>\n      <td>adrar</td>\n      <td>20.5022</td>\n      <td>-10.0711</td>\n      <td>31.00</td>\n      <td>8</td>\n      <td>0</td>\n      <td>4.33</td>\n      <td>1619117947</td>\n      <td>MR</td>\n    </tr>\n    <tr>\n      <th>527</th>\n      <td>santa marta</td>\n      <td>11.2408</td>\n      <td>-74.1990</td>\n      <td>31.67</td>\n      <td>63</td>\n      <td>8</td>\n      <td>0.89</td>\n      <td>1619117954</td>\n      <td>CO</td>\n    </tr>\n  </tbody>\n</table>\n</div>"
     },
     "metadata": {},
     "execution_count": 97
    }
   ],
   "source": [
    "# Narrow down the DataFrame to find your ideal weather condition.\n",
    "#   * A max temperature lower than 80 degrees but higher than 30.\n",
    "#   * Wind speed less than 30 mph.\n",
    "#   * Cloudiness 10\n",
    "\n",
    "Ideal_weather=cities_loop_pd.loc[(cities_loop_pd['temperature'] < 80) & (cities_loop_pd['temperature'] > 30) & (cities_loop_pd['wind speed'] < 30) & (cities_loop_pd['clouds'] <10)]\n",
    "Ideal_weather\n"
   ]
  },
  {
   "cell_type": "markdown",
   "metadata": {},
   "source": [
    "### Hotel Map\n",
    "* Store into variable named `hotel_df`.\n",
    "* Add a \"Hotel Name\" column to the DataFrame.\n",
    "* Set parameters to search for hotels with 5000 meters.\n",
    "* Hit the Google Places API for each city's coordinates.\n",
    "* Store the first Hotel result into the DataFrame.\n",
    "* Plot markers on top of the heatmap."
   ]
  },
  {
   "cell_type": "code",
   "execution_count": 98,
   "metadata": {},
   "outputs": [
    {
     "output_type": "execute_result",
     "data": {
      "text/plain": [
       "            city  latitude  longitude  temperature  humidity  clouds  \\\n",
       "195         doha   25.2867    51.5333        30.56        48       0   \n",
       "271    taoudenni   22.6783    -3.9836        36.19         7       0   \n",
       "349        paita   -5.0892   -81.1144        31.00        48       0   \n",
       "356         atar   20.5169   -13.0499        36.00        23       0   \n",
       "363     buraydah   26.3260    43.9750        31.00        18       0   \n",
       "408     tessalit   20.1986     1.0114        31.87         6       1   \n",
       "414       riyadh   24.6877    46.7219        32.00        13       0   \n",
       "467       bafata   12.1667   -14.7500        35.68        21       9   \n",
       "509        adrar   20.5022   -10.0711        31.00         8       0   \n",
       "527  santa marta   11.2408   -74.1990        31.67        63       8   \n",
       "\n",
       "     wind speed        date country Hotel Name  \n",
       "195        1.03  1619117834      QA             \n",
       "271        3.10  1619117860      ML             \n",
       "349        7.72  1619117888      PE             \n",
       "356        1.03  1619117891      MR             \n",
       "363        3.60  1619117893      SA             \n",
       "408        4.63  1619117909      ML             \n",
       "414        2.06  1619117865      SA             \n",
       "467        5.10  1619117931      GW             \n",
       "509        4.33  1619117947      MR             \n",
       "527        0.89  1619117954      CO             "
      ],
      "text/html": "<div>\n<style scoped>\n    .dataframe tbody tr th:only-of-type {\n        vertical-align: middle;\n    }\n\n    .dataframe tbody tr th {\n        vertical-align: top;\n    }\n\n    .dataframe thead th {\n        text-align: right;\n    }\n</style>\n<table border=\"1\" class=\"dataframe\">\n  <thead>\n    <tr style=\"text-align: right;\">\n      <th></th>\n      <th>city</th>\n      <th>latitude</th>\n      <th>longitude</th>\n      <th>temperature</th>\n      <th>humidity</th>\n      <th>clouds</th>\n      <th>wind speed</th>\n      <th>date</th>\n      <th>country</th>\n      <th>Hotel Name</th>\n    </tr>\n  </thead>\n  <tbody>\n    <tr>\n      <th>195</th>\n      <td>doha</td>\n      <td>25.2867</td>\n      <td>51.5333</td>\n      <td>30.56</td>\n      <td>48</td>\n      <td>0</td>\n      <td>1.03</td>\n      <td>1619117834</td>\n      <td>QA</td>\n      <td></td>\n    </tr>\n    <tr>\n      <th>271</th>\n      <td>taoudenni</td>\n      <td>22.6783</td>\n      <td>-3.9836</td>\n      <td>36.19</td>\n      <td>7</td>\n      <td>0</td>\n      <td>3.10</td>\n      <td>1619117860</td>\n      <td>ML</td>\n      <td></td>\n    </tr>\n    <tr>\n      <th>349</th>\n      <td>paita</td>\n      <td>-5.0892</td>\n      <td>-81.1144</td>\n      <td>31.00</td>\n      <td>48</td>\n      <td>0</td>\n      <td>7.72</td>\n      <td>1619117888</td>\n      <td>PE</td>\n      <td></td>\n    </tr>\n    <tr>\n      <th>356</th>\n      <td>atar</td>\n      <td>20.5169</td>\n      <td>-13.0499</td>\n      <td>36.00</td>\n      <td>23</td>\n      <td>0</td>\n      <td>1.03</td>\n      <td>1619117891</td>\n      <td>MR</td>\n      <td></td>\n    </tr>\n    <tr>\n      <th>363</th>\n      <td>buraydah</td>\n      <td>26.3260</td>\n      <td>43.9750</td>\n      <td>31.00</td>\n      <td>18</td>\n      <td>0</td>\n      <td>3.60</td>\n      <td>1619117893</td>\n      <td>SA</td>\n      <td></td>\n    </tr>\n    <tr>\n      <th>408</th>\n      <td>tessalit</td>\n      <td>20.1986</td>\n      <td>1.0114</td>\n      <td>31.87</td>\n      <td>6</td>\n      <td>1</td>\n      <td>4.63</td>\n      <td>1619117909</td>\n      <td>ML</td>\n      <td></td>\n    </tr>\n    <tr>\n      <th>414</th>\n      <td>riyadh</td>\n      <td>24.6877</td>\n      <td>46.7219</td>\n      <td>32.00</td>\n      <td>13</td>\n      <td>0</td>\n      <td>2.06</td>\n      <td>1619117865</td>\n      <td>SA</td>\n      <td></td>\n    </tr>\n    <tr>\n      <th>467</th>\n      <td>bafata</td>\n      <td>12.1667</td>\n      <td>-14.7500</td>\n      <td>35.68</td>\n      <td>21</td>\n      <td>9</td>\n      <td>5.10</td>\n      <td>1619117931</td>\n      <td>GW</td>\n      <td></td>\n    </tr>\n    <tr>\n      <th>509</th>\n      <td>adrar</td>\n      <td>20.5022</td>\n      <td>-10.0711</td>\n      <td>31.00</td>\n      <td>8</td>\n      <td>0</td>\n      <td>4.33</td>\n      <td>1619117947</td>\n      <td>MR</td>\n      <td></td>\n    </tr>\n    <tr>\n      <th>527</th>\n      <td>santa marta</td>\n      <td>11.2408</td>\n      <td>-74.1990</td>\n      <td>31.67</td>\n      <td>63</td>\n      <td>8</td>\n      <td>0.89</td>\n      <td>1619117954</td>\n      <td>CO</td>\n      <td></td>\n    </tr>\n  </tbody>\n</table>\n</div>"
     },
     "metadata": {},
     "execution_count": 98
    }
   ],
   "source": [
    "# new variable name\n",
    "hotel_df=Ideal_weather.copy()\n",
    "\n",
    "# Create a new column\n",
    "hotel_df['Hotel Name'] = \"\"\n",
    "hotel_df"
   ]
  },
  {
   "cell_type": "code",
   "execution_count": 99,
   "metadata": {
    "tags": []
   },
   "outputs": [
    {
     "output_type": "stream",
     "name": "stdout",
     "text": [
      "JW Marriott Marquis City Center Doha\n",
      "Hotel not Found\n",
      "Hotel Marina Del Bay\n",
      "les toiles maures\n",
      "فندق تاورز HOTELTOWERS\n",
      "Hotel not Found\n",
      "Park Inn by Radisson, Riyadh\n",
      "Hotel not Found\n",
      "Hotel not Found\n",
      "Hilton Garden Inn Santa Marta, Colombia\n"
     ]
    }
   ],
   "source": [
    "# setting paramaters to search\n",
    "target_radius = 5000\n",
    "target_type = \"Hotel\"\n",
    "keyword= \"hotel\"\n",
    "key=\"g_key\"\n",
    "\n",
    "# set up a parameters dictionary\n",
    "params = {\n",
    "    \"radius\": target_radius,\n",
    "    \"type\": target_type,\n",
    "    \"key\": g_key,\n",
    "    \"keyword\": keyword\n",
    " \n",
    "}\n",
    "# set forloop\n",
    "for index, row in hotel_df.iterrows():\n",
    "    lat=row['latitude']\n",
    "    lon=row['longitude']\n",
    "\n",
    "    params['location'] =f\"{lat},{lon}\"\n",
    "    \n",
    "    # base url\n",
    "    base_url = \"https://maps.googleapis.com/maps/api/place/nearbysearch/json\"\n",
    "\n",
    "    # run a request using our params dictionary\n",
    "    response = requests.get(base_url, params=params)\n",
    "\n",
    "    places_data = response.json()\n",
    "    try:\n",
    "        hotel_df.loc[index, \"Hotel Name\"]=places_data['results'][0]['name']\n",
    "        print(places_data['results'][0]['name'])\n",
    "    except:\n",
    "        print(\"Hotel not Found\")\n",
    "        hotel_df.loc[index, \"Hotel Name\"]=\"Hotel not Found\""
   ]
  },
  {
   "cell_type": "code",
   "execution_count": 100,
   "metadata": {},
   "outputs": [
    {
     "output_type": "execute_result",
     "data": {
      "text/plain": [
       "            city  latitude  longitude  temperature  humidity  clouds  \\\n",
       "195         doha   25.2867    51.5333        30.56        48       0   \n",
       "271    taoudenni   22.6783    -3.9836        36.19         7       0   \n",
       "349        paita   -5.0892   -81.1144        31.00        48       0   \n",
       "356         atar   20.5169   -13.0499        36.00        23       0   \n",
       "363     buraydah   26.3260    43.9750        31.00        18       0   \n",
       "408     tessalit   20.1986     1.0114        31.87         6       1   \n",
       "414       riyadh   24.6877    46.7219        32.00        13       0   \n",
       "467       bafata   12.1667   -14.7500        35.68        21       9   \n",
       "509        adrar   20.5022   -10.0711        31.00         8       0   \n",
       "527  santa marta   11.2408   -74.1990        31.67        63       8   \n",
       "\n",
       "     wind speed        date country                               Hotel Name  \n",
       "195        1.03  1619117834      QA     JW Marriott Marquis City Center Doha  \n",
       "271        3.10  1619117860      ML                          Hotel not Found  \n",
       "349        7.72  1619117888      PE                     Hotel Marina Del Bay  \n",
       "356        1.03  1619117891      MR                        les toiles maures  \n",
       "363        3.60  1619117893      SA                   فندق تاورز HOTELTOWERS  \n",
       "408        4.63  1619117909      ML                          Hotel not Found  \n",
       "414        2.06  1619117865      SA             Park Inn by Radisson, Riyadh  \n",
       "467        5.10  1619117931      GW                          Hotel not Found  \n",
       "509        4.33  1619117947      MR                          Hotel not Found  \n",
       "527        0.89  1619117954      CO  Hilton Garden Inn Santa Marta, Colombia  "
      ],
      "text/html": "<div>\n<style scoped>\n    .dataframe tbody tr th:only-of-type {\n        vertical-align: middle;\n    }\n\n    .dataframe tbody tr th {\n        vertical-align: top;\n    }\n\n    .dataframe thead th {\n        text-align: right;\n    }\n</style>\n<table border=\"1\" class=\"dataframe\">\n  <thead>\n    <tr style=\"text-align: right;\">\n      <th></th>\n      <th>city</th>\n      <th>latitude</th>\n      <th>longitude</th>\n      <th>temperature</th>\n      <th>humidity</th>\n      <th>clouds</th>\n      <th>wind speed</th>\n      <th>date</th>\n      <th>country</th>\n      <th>Hotel Name</th>\n    </tr>\n  </thead>\n  <tbody>\n    <tr>\n      <th>195</th>\n      <td>doha</td>\n      <td>25.2867</td>\n      <td>51.5333</td>\n      <td>30.56</td>\n      <td>48</td>\n      <td>0</td>\n      <td>1.03</td>\n      <td>1619117834</td>\n      <td>QA</td>\n      <td>JW Marriott Marquis City Center Doha</td>\n    </tr>\n    <tr>\n      <th>271</th>\n      <td>taoudenni</td>\n      <td>22.6783</td>\n      <td>-3.9836</td>\n      <td>36.19</td>\n      <td>7</td>\n      <td>0</td>\n      <td>3.10</td>\n      <td>1619117860</td>\n      <td>ML</td>\n      <td>Hotel not Found</td>\n    </tr>\n    <tr>\n      <th>349</th>\n      <td>paita</td>\n      <td>-5.0892</td>\n      <td>-81.1144</td>\n      <td>31.00</td>\n      <td>48</td>\n      <td>0</td>\n      <td>7.72</td>\n      <td>1619117888</td>\n      <td>PE</td>\n      <td>Hotel Marina Del Bay</td>\n    </tr>\n    <tr>\n      <th>356</th>\n      <td>atar</td>\n      <td>20.5169</td>\n      <td>-13.0499</td>\n      <td>36.00</td>\n      <td>23</td>\n      <td>0</td>\n      <td>1.03</td>\n      <td>1619117891</td>\n      <td>MR</td>\n      <td>les toiles maures</td>\n    </tr>\n    <tr>\n      <th>363</th>\n      <td>buraydah</td>\n      <td>26.3260</td>\n      <td>43.9750</td>\n      <td>31.00</td>\n      <td>18</td>\n      <td>0</td>\n      <td>3.60</td>\n      <td>1619117893</td>\n      <td>SA</td>\n      <td>فندق تاورز HOTELTOWERS</td>\n    </tr>\n    <tr>\n      <th>408</th>\n      <td>tessalit</td>\n      <td>20.1986</td>\n      <td>1.0114</td>\n      <td>31.87</td>\n      <td>6</td>\n      <td>1</td>\n      <td>4.63</td>\n      <td>1619117909</td>\n      <td>ML</td>\n      <td>Hotel not Found</td>\n    </tr>\n    <tr>\n      <th>414</th>\n      <td>riyadh</td>\n      <td>24.6877</td>\n      <td>46.7219</td>\n      <td>32.00</td>\n      <td>13</td>\n      <td>0</td>\n      <td>2.06</td>\n      <td>1619117865</td>\n      <td>SA</td>\n      <td>Park Inn by Radisson, Riyadh</td>\n    </tr>\n    <tr>\n      <th>467</th>\n      <td>bafata</td>\n      <td>12.1667</td>\n      <td>-14.7500</td>\n      <td>35.68</td>\n      <td>21</td>\n      <td>9</td>\n      <td>5.10</td>\n      <td>1619117931</td>\n      <td>GW</td>\n      <td>Hotel not Found</td>\n    </tr>\n    <tr>\n      <th>509</th>\n      <td>adrar</td>\n      <td>20.5022</td>\n      <td>-10.0711</td>\n      <td>31.00</td>\n      <td>8</td>\n      <td>0</td>\n      <td>4.33</td>\n      <td>1619117947</td>\n      <td>MR</td>\n      <td>Hotel not Found</td>\n    </tr>\n    <tr>\n      <th>527</th>\n      <td>santa marta</td>\n      <td>11.2408</td>\n      <td>-74.1990</td>\n      <td>31.67</td>\n      <td>63</td>\n      <td>8</td>\n      <td>0.89</td>\n      <td>1619117954</td>\n      <td>CO</td>\n      <td>Hilton Garden Inn Santa Marta, Colombia</td>\n    </tr>\n  </tbody>\n</table>\n</div>"
     },
     "metadata": {},
     "execution_count": 100
    }
   ],
   "source": [
    "hotel_df\n"
   ]
  },
  {
   "cell_type": "code",
   "execution_count": 104,
   "metadata": {},
   "outputs": [],
   "source": [
    "# NOTE: Do not change any of the code in this cell\n",
    "\n",
    "# Using the template add the hotel marks to the heatmap\n",
    "info_box_template = \"\"\"\n",
    "<dl>\n",
    "<dt>Name</dt><dd>{Hotel Name}</dd>\n",
    "<dt>City</dt><dd>{city}</dd>\n",
    "<dt>Country</dt><dd>{country}</dd>\n",
    "</dl>\n",
    "\"\"\"\n",
    "#***I had to use lowercase city and country in order for the code to work***\n",
    "\n",
    "# Store the DataFrame Row\n",
    "# NOTE: be sure to update with your DataFrame name\n",
    "hotel_info = [info_box_template.format(**row) for index, row in hotel_df.iterrows()]\n",
    "locations = hotel_df[[\"latitude\", \"longitude\"]]"
   ]
  },
  {
   "cell_type": "code",
   "execution_count": 107,
   "metadata": {},
   "outputs": [
    {
     "output_type": "display_data",
     "data": {
      "text/plain": "Figure(layout=FigureLayout(height='420px'))",
      "application/vnd.jupyter.widget-view+json": {
       "version_major": 2,
       "version_minor": 0,
       "model_id": "34c8015337fe417486e08b73ca48abfc"
      }
     },
     "metadata": {}
    }
   ],
   "source": [
    "# Add marker layer ontop of heat map\n",
    "marker_layer = gmaps.marker_layer(\n",
    "    locations,info_box_content=hotel_info)\n",
    "\n",
    "fig = gmaps.figure()\n",
    "fig.add_layer(marker_layer)\n",
    "\n",
    "fig\n",
    "\n",
    "# Display figure\n"
   ]
  },
  {
   "cell_type": "code",
   "execution_count": null,
   "metadata": {},
   "outputs": [],
   "source": []
  }
 ],
 "metadata": {
  "kernelspec": {
   "name": "python379jvsc74a57bd0185682abfd9f665f5ace63c8dbf57ce50d75e1e561efde62f688fc77323a725a",
   "display_name": "Python 3.7.9 64-bit ('PythonData': conda)"
  },
  "language_info": {
   "codemirror_mode": {
    "name": "ipython",
    "version": 3
   },
   "file_extension": ".py",
   "mimetype": "text/x-python",
   "name": "python",
   "nbconvert_exporter": "python",
   "pygments_lexer": "ipython3",
   "version": "3.7.9-final"
  },
  "latex_envs": {
   "LaTeX_envs_menu_present": true,
   "autoclose": false,
   "autocomplete": true,
   "bibliofile": "biblio.bib",
   "cite_by": "apalike",
   "current_citInitial": 1,
   "eqLabelWithNumbers": true,
   "eqNumInitial": 1,
   "hotkeys": {
    "equation": "Ctrl-E",
    "itemize": "Ctrl-I"
   },
   "labels_anchors": false,
   "latex_user_defs": false,
   "report_style_numbering": false,
   "user_envs_cfg": false
  }
 },
 "nbformat": 4,
 "nbformat_minor": 4
}