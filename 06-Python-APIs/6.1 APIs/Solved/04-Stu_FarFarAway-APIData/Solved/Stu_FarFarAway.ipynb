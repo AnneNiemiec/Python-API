{
 "cells": [
  {
   "cell_type": "code",
   "execution_count": null,
   "metadata": {},
   "outputs": [],
   "source": [
    "# Dependencies\n",
    "import requests\n",
    "import json"
   ]
  },
  {
   "cell_type": "code",
   "execution_count": null,
   "metadata": {},
   "outputs": [],
   "source": [
    "# URL for GET requests to retrieve Star Wars character data\n",
    "base_url = \"https://swapi.dev/api/people/\""
   ]
  },
  {
   "cell_type": "code",
   "execution_count": null,
   "metadata": {},
   "outputs": [],
   "source": [
    "# Create a url with a specific character id\n",
    "character_id = '4'\n",
    "url = base_url + character_id\n",
    "print(url)"
   ]
  },
  {
   "cell_type": "code",
   "execution_count": null,
   "metadata": {},
   "outputs": [],
   "source": [
    "# Perform a get request for this character\n",
    "response = requests.get(url)\n",
    "print(response.url)"
   ]
  },
  {
   "cell_type": "code",
   "execution_count": null,
   "metadata": {},
   "outputs": [],
   "source": [
    "# Storing the JSON response within a variable\n",
    "data = response.json()\n",
    "# Use json.dumps to print the json\n",
    "print(json.dumps(data, indent=4, sort_keys=True))"
   ]
  },
  {
   "cell_type": "code",
   "execution_count": null,
   "metadata": {},
   "outputs": [],
   "source": [
    "# Print the name of the character retrieved\n",
    "character_name = data[\"name\"]\n",
    "print(character_name)"
   ]
  },
  {
   "cell_type": "code",
   "execution_count": null,
   "metadata": {},
   "outputs": [],
   "source": [
    "# Print the number of films that they were in (hint: use len())\n",
    "film_number = len(data[\"films\"])\n",
    "print(film_number)"
   ]
  },
  {
   "cell_type": "code",
   "execution_count": null,
   "metadata": {},
   "outputs": [],
   "source": [
    "# Request the starships URI found in the starships property of the\n",
    "# previously retreived json, then use the response to figure out what this \n",
    "# character's first starship was\n",
    "first_ship_url = data[\"starships\"][0]\n",
    "ship_response = requests.get(first_ship_url).json()\n",
    "ship_response"
   ]
  },
  {
   "cell_type": "code",
   "execution_count": null,
   "metadata": {},
   "outputs": [],
   "source": [
    "# Print the name of the character's first starship\n",
    "first_ship = ship_response[\"name\"]\n",
    "print(f\"Their first ship: {first_ship}\")"
   ]
  },
  {
   "cell_type": "code",
   "execution_count": null,
   "metadata": {},
   "outputs": [],
   "source": [
    "# BONUS\n",
    "films = []\n",
    "\n",
    "for film in data['films']:\n",
    "    cur_film = requests.get(film).json()\n",
    "    film_title = cur_film[\"title\"]\n",
    "    films.append(film_title)\n",
    "    \n",
    "print(f\"{character_name} was in:\")\n",
    "print(films)"
   ]
  },
  {
   "cell_type": "code",
   "execution_count": null,
   "metadata": {
    "collapsed": true
   },
   "outputs": [],
   "source": []
  }
 ],
 "metadata": {
  "kernelspec": {
   "name": "python379jvsc74a57bd0bbe642eadd6339b9b8205d8ad1a643f3bb66b62b534e357dea091f695d22ae3d",
   "display_name": "Python 3.7.9 64-bit ('PythonData': conda)"
  },
  "language_info": {
   "codemirror_mode": {
    "name": "ipython",
    "version": 3
   },
   "file_extension": ".py",
   "mimetype": "text/x-python",
   "name": "python",
   "nbconvert_exporter": "python",
   "pygments_lexer": "ipython3",
   "version": "3.7.9-final"
  },
  "varInspector": {
   "cols": {
    "lenName": 16,
    "lenType": 16,
    "lenVar": 40
   },
   "kernels_config": {
    "python": {
     "delete_cmd_postfix": "",
     "delete_cmd_prefix": "del ",
     "library": "var_list.py",
     "varRefreshCmd": "print(var_dic_list())"
    },
    "r": {
     "delete_cmd_postfix": ") ",
     "delete_cmd_prefix": "rm(",
     "library": "var_list.r",
     "varRefreshCmd": "cat(var_dic_list()) "
    }
   },
   "types_to_exclude": [
    "module",
    "function",
    "builtin_function_or_method",
    "instance",
    "_Feature"
   ],
   "window_display": false
  }
 },
 "nbformat": 4,
 "nbformat_minor": 2
}