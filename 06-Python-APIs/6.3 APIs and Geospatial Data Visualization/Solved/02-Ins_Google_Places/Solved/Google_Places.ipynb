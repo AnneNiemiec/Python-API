{
 "cells": [
  {
   "cell_type": "code",
   "execution_count": 6,
   "metadata": {},
   "outputs": [],
   "source": [
    "# Dependencies\n",
    "import requests\n",
    "import json\n",
    "\n",
    "# Google developer API key\n",
    "from config import gkey"
   ]
  },
  {
   "cell_type": "code",
   "execution_count": 7,
   "metadata": {},
   "outputs": [],
   "source": [
    "# geocoordinates\n",
    "target_coordinates = \"43.6187102, -116.2146068\"\n",
    "target_search = \"Chinese\"\n",
    "target_radius = 8000\n",
    "target_type = \"restaurant\"\n",
    "\n",
    "# set up a parameters dictionary\n",
    "params = {\n",
    "    \"location\": target_coordinates,\n",
    "    \"keyword\": target_search,\n",
    "    \"radius\": target_radius,\n",
    "    \"type\": target_type,\n",
    "    \"key\": gkey\n",
    "}\n",
    "\n",
    "# base url\n",
    "base_url = \"https://maps.googleapis.com/maps/api/place/nearbysearch/json\"\n",
    "\n",
    "# run a request using our params dictionary\n",
    "response = requests.get(base_url, params=params)"
   ]
  },
  {
   "cell_type": "code",
   "execution_count": 8,
   "metadata": {},
   "outputs": [],
   "source": [
    "# print the response url, avoid doing for public github repos in order to avoid exposing key\n",
    "#print(response.url)"
   ]
  },
  {
   "cell_type": "code",
   "execution_count": 9,
   "metadata": {
    "tags": [
     "outputPrepend"
    ]
   },
   "outputs": [
    {
     "output_type": "stream",
     "name": "stdout",
     "text": [
      "-p-G76v60Pb00vHx7z5FcrxM-77lvR6oV8WY0TH3h74-SsRFC-bDDEwt-wN_Odm98miT1rHdV7bHTomTz96BtxkwJFq8FrOGFgNq3eT9dlUTINrYf33ejZZ3z64wCKLh\",\n                    \"width\": 2149\n                }\n            ],\n            \"place_id\": \"ChIJe9STjx9WrlQRnMGkKZFN9V4\",\n            \"plus_code\": {\n                \"compound_code\": \"JQ64+WQ Boise, Idaho\",\n                \"global_code\": \"85M5JQ64+WQ\"\n            },\n            \"price_level\": 1,\n            \"rating\": 4.4,\n            \"reference\": \"ChIJe9STjx9WrlQRnMGkKZFN9V4\",\n            \"scope\": \"GOOGLE\",\n            \"types\": [\n                \"meal_takeaway\",\n                \"restaurant\",\n                \"food\",\n                \"point_of_interest\",\n                \"establishment\"\n            ],\n            \"user_ratings_total\": 249,\n            \"vicinity\": \"4912 Emerald St, Boise\"\n        },\n        {\n            \"business_status\": \"OPERATIONAL\",\n            \"geometry\": {\n                \"location\": {\n                    \"lat\": 43.577295,\n                    \"lng\": -116.195009\n                },\n                \"viewport\": {\n                    \"northeast\": {\n                        \"lat\": 43.57901292989273,\n                        \"lng\": -116.1936632701073\n                    },\n                    \"southwest\": {\n                        \"lat\": 43.57631327010728,\n                        \"lng\": -116.1963629298928\n                    }\n                }\n            },\n            \"icon\": \"https://maps.gstatic.com/mapfiles/place_api/icons/v1/png_71/restaurant-71.png\",\n            \"name\": \"Season Wok\",\n            \"opening_hours\": {\n                \"open_now\": false\n            },\n            \"photos\": [\n                {\n                    \"height\": 1208,\n                    \"html_attributions\": [\n                        \"<a href=\\\"https://maps.google.com/maps/contrib/117474966032883412922\\\">A Google User</a>\"\n                    ],\n                    \"photo_reference\": \"ATtYBwI-nItVFTIFkn2H7vCSSEis0u-ESLIayQ3ZftxijhcopkGeskWHNiykOGYXBZBjO0PwSdabWelCyqX2NtteB3d4eAM5pO1MmevstttcmKx2Fq2ct2NziumjVkxVEwdjIQJOLS7ZwiYM0hcpRicLNTu_dP0f6aWOjDA-STZw5cgSh5y-\",\n                    \"width\": 1074\n                }\n            ],\n            \"place_id\": \"ChIJ_9TdpxD4rlQRdg8ROoJbNSw\",\n            \"plus_code\": {\n                \"compound_code\": \"HRG3+WX Boise, Idaho\",\n                \"global_code\": \"85M5HRG3+WX\"\n            },\n            \"price_level\": 1,\n            \"rating\": 3.4,\n            \"reference\": \"ChIJ_9TdpxD4rlQRdg8ROoJbNSw\",\n            \"scope\": \"GOOGLE\",\n            \"types\": [\n                \"meal_delivery\",\n                \"restaurant\",\n                \"food\",\n                \"point_of_interest\",\n                \"establishment\"\n            ],\n            \"user_ratings_total\": 145,\n            \"vicinity\": \"2775 Broadway Ave, Boise\"\n        },\n        {\n            \"business_status\": \"OPERATIONAL\",\n            \"geometry\": {\n                \"location\": {\n                    \"lat\": 43.6128764,\n                    \"lng\": -116.2031451\n                },\n                \"viewport\": {\n                    \"northeast\": {\n                        \"lat\": 43.61417077989272,\n                        \"lng\": -116.2018404701073\n                    },\n                    \"southwest\": {\n                        \"lat\": 43.61147112010728,\n                        \"lng\": -116.2045401298927\n                    }\n                }\n            },\n            \"icon\": \"https://maps.gstatic.com/mapfiles/place_api/icons/v1/png_71/restaurant-71.png\",\n            \"name\": \"Panda Express\",\n            \"opening_hours\": {\n                \"open_now\": false\n            },\n            \"photos\": [\n                {\n                    \"height\": 3036,\n                    \"html_attributions\": [\n                        \"<a href=\\\"https://maps.google.com/maps/contrib/117353903133578767077\\\">James Derderian</a>\"\n                    ],\n                    \"photo_reference\": \"ATtYBwL3IkwKgz8Qyxczic3baSY4EgY2CDXjCUiu5SxJDAUlbW7vLJ7BZpfikXqBMFaVOdjMM-SdVLsn8KW4X6UOn8JSsL4tRRgsORnQozL6GRL4NgzAjllHZRSS9XgCeFPsPDN3mIto0N-zlFJhCU7iKSYw7EKpaNCmiEt11Qs-kCUEabzE\",\n                    \"width\": 4048\n                }\n            ],\n            \"place_id\": \"ChIJkevL-_r4rlQRdCX2O8ZXDsM\",\n            \"plus_code\": {\n                \"compound_code\": \"JQ7W+5P Boise, Idaho\",\n                \"global_code\": \"85M5JQ7W+5P\"\n            },\n            \"price_level\": 1,\n            \"rating\": 4,\n            \"reference\": \"ChIJkevL-_r4rlQRdCX2O8ZXDsM\",\n            \"scope\": \"GOOGLE\",\n            \"types\": [\n                \"restaurant\",\n                \"food\",\n                \"point_of_interest\",\n                \"establishment\"\n            ],\n            \"user_ratings_total\": 209,\n            \"vicinity\": \"601 W Front St, Boise\"\n        },\n        {\n            \"business_status\": \"OPERATIONAL\",\n            \"geometry\": {\n                \"location\": {\n                    \"lat\": 43.5906484,\n                    \"lng\": -116.2801612\n                },\n                \"viewport\": {\n                    \"northeast\": {\n                        \"lat\": 43.59196002989272,\n                        \"lng\": -116.2788730701073\n                    },\n                    \"southwest\": {\n                        \"lat\": 43.58926037010728,\n                        \"lng\": -116.2815727298927\n                    }\n                }\n            },\n            \"icon\": \"https://maps.gstatic.com/mapfiles/place_api/icons/v1/png_71/restaurant-71.png\",\n            \"name\": \"Panda Express\",\n            \"opening_hours\": {\n                \"open_now\": false\n            },\n            \"photos\": [\n                {\n                    \"height\": 282,\n                    \"html_attributions\": [\n                        \"<a href=\\\"https://maps.google.com/maps/contrib/109235819106383651889\\\">\\u4e2d\\u91ce\\u7adc</a>\"\n                    ],\n                    \"photo_reference\": \"ATtYBwK2Ea4sd29NsqxxNygFMYAkgVl-8q3dTAq8DBbOKWh6kH20H0Ug6OhhrtPTus32sohSCdtRkBaPgXw37ZLMD_SHg_AnIRVw_KNOoGhltbOODECWHLyjLFZ5cMYdE1_2GKhLTiZq-vsu3sCxaULT-HThQJeNTmymeN7CGd6V7h4n0sNl\",\n                    \"width\": 448\n                }\n            ],\n            \"place_id\": \"ChIJb15nIlJWrlQRcvGGNq_0WC8\",\n            \"plus_code\": {\n                \"compound_code\": \"HPR9+7W Boise, Idaho\",\n                \"global_code\": \"85M5HPR9+7W\"\n            },\n            \"price_level\": 1,\n            \"rating\": 4.1,\n            \"reference\": \"ChIJb15nIlJWrlQRcvGGNq_0WC8\",\n            \"scope\": \"GOOGLE\",\n            \"types\": [\n                \"restaurant\",\n                \"food\",\n                \"point_of_interest\",\n                \"establishment\"\n            ],\n            \"user_ratings_total\": 974,\n            \"vicinity\": \"7804 W Overland Rd, Boise\"\n        },\n        {\n            \"business_status\": \"OPERATIONAL\",\n            \"geometry\": {\n                \"location\": {\n                    \"lat\": 43.614921,\n                    \"lng\": -116.2838702\n                },\n                \"viewport\": {\n                    \"northeast\": {\n                        \"lat\": 43.61633177989272,\n                        \"lng\": -116.2824680201073\n                    },\n                    \"southwest\": {\n                        \"lat\": 43.61363212010728,\n                        \"lng\": -116.2851676798928\n                    }\n                }\n            },\n            \"icon\": \"https://maps.gstatic.com/mapfiles/place_api/icons/v1/png_71/restaurant-71.png\",\n            \"name\": \"Panda Express\",\n            \"opening_hours\": {\n                \"open_now\": false\n            },\n            \"photos\": [\n                {\n                    \"height\": 3024,\n                    \"html_attributions\": [\n                        \"<a href=\\\"https://maps.google.com/maps/contrib/118350779690464862712\\\">Roxana Curtis</a>\"\n                    ],\n                    \"photo_reference\": \"ATtYBwJTugMlzBgVV_tV2AJqjZeyA8rKc4eMhv0FwcdvNp2YQRY8_A9RvKBNoMzglMNA-10ybVEFwMq1lpk5kIffbuHa46IbejwRLrFsUKPm6TfwaCuwcAnYtfvQtzIbSK9N6089zfay4CIPYM5AEI8f6NNRhbnvI4_pKxBiM_yRIMVPwlKy\",\n                    \"width\": 4032\n                }\n            ],\n            \"place_id\": \"ChIJbdZEMQ1WrlQRcVfVf-Hl8g8\",\n            \"plus_code\": {\n                \"compound_code\": \"JP78+XF Boise, Idaho\",\n                \"global_code\": \"85M5JP78+XF\"\n            },\n            \"price_level\": 1,\n            \"rating\": 4,\n            \"reference\": \"ChIJbdZEMQ1WrlQRcVfVf-Hl8g8\",\n            \"scope\": \"GOOGLE\",\n            \"types\": [\n                \"restaurant\",\n                \"food\",\n                \"point_of_interest\",\n                \"establishment\"\n            ],\n            \"user_ratings_total\": 406,\n            \"vicinity\": \"1124 N Milwaukee St, Boise\"\n        },\n        {\n            \"business_status\": \"OPERATIONAL\",\n            \"geometry\": {\n                \"location\": {\n                    \"lat\": 43.6028926,\n                    \"lng\": -116.2443826\n                },\n                \"viewport\": {\n                    \"northeast\": {\n                        \"lat\": 43.60420827989272,\n                        \"lng\": -116.2430331701073\n                    },\n                    \"southwest\": {\n                        \"lat\": 43.60150862010727,\n                        \"lng\": -116.2457328298928\n                    }\n                }\n            },\n            \"icon\": \"https://maps.gstatic.com/mapfiles/place_api/icons/v1/png_71/restaurant-71.png\",\n            \"name\": \"Mandarin Palace\",\n            \"opening_hours\": {\n                \"open_now\": false\n            },\n            \"photos\": [\n                {\n                    \"height\": 2274,\n                    \"html_attributions\": [\n                        \"<a href=\\\"https://maps.google.com/maps/contrib/103311480146692398200\\\">A Google User</a>\"\n                    ],\n                    \"photo_reference\": \"ATtYBwIUxOsHNeY2I-YTfCseaFJtcwoDb_vwYMYZ30iLnGzPH0auhO2aVzBp1FzSjARtLwVDzDaBhnrThvO89qs2mOhcG4Ap_nQ89lDSyb7m_ZmoUyqoU5Ee3JeZW1llZBrgFIcjXIjznzmmJjdyalXJh9N7l0hozNTiWaVQ7-zn6wic46MM\",\n                    \"width\": 3095\n                }\n            ],\n            \"place_id\": \"ChIJecwebShWrlQRo_MtO2S0rdA\",\n            \"plus_code\": {\n                \"compound_code\": \"JQ34+56 Boise, Idaho\",\n                \"global_code\": \"85M5JQ34+56\"\n            },\n            \"price_level\": 1,\n            \"rating\": 3.8,\n            \"reference\": \"ChIJecwebShWrlQRo_MtO2S0rdA\",\n            \"scope\": \"GOOGLE\",\n            \"types\": [\n                \"restaurant\",\n                \"food\",\n                \"point_of_interest\",\n                \"establishment\"\n            ],\n            \"user_ratings_total\": 242,\n            \"vicinity\": \"5020 W. Franklin St., Boise\"\n        },\n        {\n            \"business_status\": \"OPERATIONAL\",\n            \"geometry\": {\n                \"location\": {\n                    \"lat\": 43.6653862,\n                    \"lng\": -116.2801056\n                },\n                \"viewport\": {\n                    \"northeast\": {\n                        \"lat\": 43.66669357989272,\n                        \"lng\": -116.2787576201073\n                    },\n                    \"southwest\": {\n                        \"lat\": 43.66399392010727,\n                        \"lng\": -116.2814572798927\n                    }\n                }\n            },\n            \"icon\": \"https://maps.gstatic.com/mapfiles/place_api/icons/v1/png_71/restaurant-71.png\",\n            \"name\": \"Panda Express\",\n            \"opening_hours\": {\n                \"open_now\": false\n            },\n            \"photos\": [\n                {\n                    \"height\": 3024,\n                    \"html_attributions\": [\n                        \"<a href=\\\"https://maps.google.com/maps/contrib/108427894577938186722\\\">Xiaobai T</a>\"\n                    ],\n                    \"photo_reference\": \"ATtYBwIqEuE2v9fCsVIieQQpjbkYLABU6uoGS-dwt0OX9cSUexY3Hiv1_8ZPUIauN0pEjflG47bNH7U14hnRHuATOpDLeDnXzyWsXtARCrOIQEZPKeSKhpyIrRtYVuDk7oUiBUfM7WduNXFrsUopv89fjVP7_WqvSr84zpvA96gAw7MLGXIi\",\n                    \"width\": 4032\n                }\n            ],\n            \"place_id\": \"ChIJLdWyiJ7_rlQRIRdU-1NWqEw\",\n            \"plus_code\": {\n                \"compound_code\": \"MP89+5X Garden City, Idaho\",\n                \"global_code\": \"85M5MP89+5X\"\n            },\n            \"price_level\": 1,\n            \"rating\": 4.1,\n            \"reference\": \"ChIJLdWyiJ7_rlQRIRdU-1NWqEw\",\n            \"scope\": \"GOOGLE\",\n            \"types\": [\n                \"restaurant\",\n                \"food\",\n                \"point_of_interest\",\n                \"establishment\"\n            ],\n            \"user_ratings_total\": 455,\n            \"vicinity\": \"6675 N Glenwood St, Garden City\"\n        },\n        {\n            \"business_status\": \"OPERATIONAL\",\n            \"geometry\": {\n                \"location\": {\n                    \"lat\": 43.589956,\n                    \"lng\": -116.241835\n                },\n                \"viewport\": {\n                    \"northeast\": {\n                        \"lat\": 43.59129537989273,\n                        \"lng\": -116.2405708201073\n                    },\n                    \"southwest\": {\n                        \"lat\": 43.58859572010729,\n                        \"lng\": -116.2432704798928\n                    }\n                }\n            },\n            \"icon\": \"https://maps.gstatic.com/mapfiles/place_api/icons/v1/png_71/restaurant-71.png\",\n            \"name\": \"Quik-Wok Restaurant\",\n            \"opening_hours\": {\n                \"open_now\": false\n            },\n            \"photos\": [\n                {\n                    \"height\": 2448,\n                    \"html_attributions\": [\n                        \"<a href=\\\"https://maps.google.com/maps/contrib/104596854037149095654\\\">A Google User</a>\"\n                    ],\n                    \"photo_reference\": \"ATtYBwIeekn5ijIu3MDSzyzy7XX3QLo12KVORFcHkttR8WTKrL7mG5HCVnYLVyp_f6l5P-XQu4bDbxTrNl_WdzKV4GgAObf8l0LiX8WRPKPcY-RPFlM2RmsdqUKTinxW4jVJPn5Hzg_Pl70vOa6IvMSVpv_pM94yErmz8khKR6yy0w1Q_PuP\",\n                    \"width\": 3264\n                }\n            ],\n            \"place_id\": \"ChIJbRshL9JXrlQRDa61aB-RK2E\",\n            \"plus_code\": {\n                \"compound_code\": \"HQQ5+X7 Boise, Idaho\",\n                \"global_code\": \"85M5HQQ5+X7\"\n            },\n            \"price_level\": 1,\n            \"rating\": 3.5,\n            \"reference\": \"ChIJbRshL9JXrlQRDa61aB-RK2E\",\n            \"scope\": \"GOOGLE\",\n            \"types\": [\n                \"meal_delivery\",\n                \"restaurant\",\n                \"food\",\n                \"point_of_interest\",\n                \"establishment\"\n            ],\n            \"user_ratings_total\": 391,\n            \"vicinity\": \"4858 W Overland Rd, Boise\"\n        },\n        {\n            \"business_status\": \"OPERATIONAL\",\n            \"geometry\": {\n                \"location\": {\n                    \"lat\": 43.6050103,\n                    \"lng\": -116.2064403\n                },\n                \"viewport\": {\n                    \"northeast\": {\n                        \"lat\": 43.60621417989272,\n                        \"lng\": -116.2051728701073\n                    },\n                    \"southwest\": {\n                        \"lat\": 43.60351452010728,\n                        \"lng\": -116.2078725298927\n                    }\n                }\n            },\n            \"icon\": \"https://maps.gstatic.com/mapfiles/place_api/icons/v1/png_71/restaurant-71.png\",\n            \"name\": \"Panda Express\",\n            \"opening_hours\": {\n                \"open_now\": false\n            },\n            \"place_id\": \"ChIJbUOFwlj4rlQRZ_4alQLNUtE\",\n            \"plus_code\": {\n                \"compound_code\": \"JQ4V+2C Boise, Idaho\",\n                \"global_code\": \"85M5JQ4V+2C\"\n            },\n            \"price_level\": 1,\n            \"rating\": 3.8,\n            \"reference\": \"ChIJbUOFwlj4rlQRZ_4alQLNUtE\",\n            \"scope\": \"GOOGLE\",\n            \"types\": [\n                \"restaurant\",\n                \"food\",\n                \"point_of_interest\",\n                \"establishment\"\n            ],\n            \"user_ratings_total\": 45,\n            \"vicinity\": \"1910 W University Dr, Boise\"\n        },\n        {\n            \"business_status\": \"OPERATIONAL\",\n            \"geometry\": {\n                \"location\": {\n                    \"lat\": 43.5915577,\n                    \"lng\": -116.3116912\n                },\n                \"viewport\": {\n                    \"northeast\": {\n                        \"lat\": 43.59288132989272,\n                        \"lng\": -116.3106272201073\n                    },\n                    \"southwest\": {\n                        \"lat\": 43.59018167010728,\n                        \"lng\": -116.3133268798927\n                    }\n                }\n            },\n            \"icon\": \"https://maps.gstatic.com/mapfiles/place_api/icons/v1/png_71/restaurant-71.png\",\n            \"name\": \"Great Wall Restaurant\",\n            \"opening_hours\": {\n                \"open_now\": false\n            },\n            \"photos\": [\n                {\n                    \"height\": 1152,\n                    \"html_attributions\": [\n                        \"<a href=\\\"https://maps.google.com/maps/contrib/109235819106383651889\\\">RYU</a>\"\n                    ],\n                    \"photo_reference\": \"ATtYBwJu_8C4tFkLoVbysMEM3L3doqL1OwmRP139KjNPqpRVOw7H4wL35zm-xZBFQgiMvXjWliEdTg5Jaofus7nRBgQePEUTc8jIxnwJjT8N8kAn2fr4Rx-KYJ_Y-3FedF79cgJtQ22sexbIySLffpwGXtJj_tbk3Kzoe_xsC0UnMLKIV7yz\",\n                    \"width\": 2048\n                }\n            ],\n            \"place_id\": \"ChIJle9LyO5WrlQRyBqJqPmCLQI\",\n            \"plus_code\": {\n                \"compound_code\": \"HMRQ+J8 Boise, Idaho\",\n                \"global_code\": \"85M5HMRQ+J8\"\n            },\n            \"price_level\": 1,\n            \"rating\": 3.8,\n            \"reference\": \"ChIJle9LyO5WrlQRyBqJqPmCLQI\",\n            \"scope\": \"GOOGLE\",\n            \"types\": [\n                \"restaurant\",\n                \"food\",\n                \"point_of_interest\",\n                \"establishment\"\n            ],\n            \"user_ratings_total\": 690,\n            \"vicinity\": \"10398 W Overland Rd, Boise\"\n        },\n        {\n            \"business_status\": \"OPERATIONAL\",\n            \"geometry\": {\n                \"location\": {\n                    \"lat\": 43.60734859999999,\n                    \"lng\": -116.2787673\n                },\n                \"viewport\": {\n                    \"northeast\": {\n                        \"lat\": 43.60856572989272,\n                        \"lng\": -116.2774403201073\n                    },\n                    \"southwest\": {\n                        \"lat\": 43.60586607010728,\n                        \"lng\": -116.2801399798928\n                    }\n                }\n            },\n            \"icon\": \"https://maps.gstatic.com/mapfiles/place_api/icons/v1/png_71/restaurant-71.png\",\n            \"name\": \"Panda Express\",\n            \"opening_hours\": {\n                \"open_now\": false\n            },\n            \"photos\": [\n                {\n                    \"height\": 4032,\n                    \"html_attributions\": [\n                        \"<a href=\\\"https://maps.google.com/maps/contrib/104961771114871630072\\\">Bobbie Owen</a>\"\n                    ],\n                    \"photo_reference\": \"ATtYBwJYEd2NqBHTSKvQNicMYXdtkfqmG71pyrMIXVYFh08brJAN2kF87TF9WALw0kZTMtBrabx95gLTGJNnAiNX1fdrmoGPykRBccaS6Kpoiq9zjU2Smwvt0qbc81oNcHUTlAw3Ij4ht8zXbyLA5BxxucF2FmtIGftlLZVnHYswLADaZsLw\",\n                    \"width\": 3024\n                }\n            ],\n            \"place_id\": \"ChIJfYBLkWpWrlQRjig0x7oVFfk\",\n            \"plus_code\": {\n                \"compound_code\": \"JP4C+WF Boise, Idaho\",\n                \"global_code\": \"85M5JP4C+WF\"\n            },\n            \"price_level\": 1,\n            \"rating\": 3.3,\n            \"reference\": \"ChIJfYBLkWpWrlQRjig0x7oVFfk\",\n            \"scope\": \"GOOGLE\",\n            \"types\": [\n                \"restaurant\",\n                \"food\",\n                \"point_of_interest\",\n                \"establishment\"\n            ],\n            \"user_ratings_total\": 111,\n            \"vicinity\": \"350 N Milwaukee St, Boise\"\n        }\n    ],\n    \"status\": \"OK\"\n}\n"
     ]
    }
   ],
   "source": [
    "# convert response to json\n",
    "places_data = response.json()\n",
    "\n",
    "# Print the json (pretty printed)\n",
    "print(json.dumps(places_data, indent=4, sort_keys=True))"
   ]
  },
  {
   "cell_type": "code",
   "execution_count": 10,
   "metadata": {},
   "outputs": [
    {
     "output_type": "stream",
     "name": "stdout",
     "text": [
      "North End Chinese Restaurant\n1806 W State St #3955, Boise\n"
     ]
    }
   ],
   "source": [
    "# Print the name and address of the first restaurant that appears\n",
    "print(places_data[\"results\"][0][\"name\"])\n",
    "print(places_data[\"results\"][0][\"vicinity\"])"
   ]
  },
  {
   "cell_type": "code",
   "execution_count": null,
   "metadata": {},
   "outputs": [],
   "source": []
  }
 ],
 "metadata": {
  "kernelspec": {
   "name": "python379jvsc74a57bd0bbe642eadd6339b9b8205d8ad1a643f3bb66b62b534e357dea091f695d22ae3d",
   "display_name": "Python 3.7.9 64-bit ('PythonData': conda)"
  },
  "language_info": {
   "codemirror_mode": {
    "name": "ipython",
    "version": 3
   },
   "file_extension": ".py",
   "mimetype": "text/x-python",
   "name": "python",
   "nbconvert_exporter": "python",
   "pygments_lexer": "ipython3",
   "version": "3.7.9-final"
  },
  "latex_envs": {
   "LaTeX_envs_menu_present": true,
   "autoclose": false,
   "autocomplete": true,
   "bibliofile": "biblio.bib",
   "cite_by": "apalike",
   "current_citInitial": 1,
   "eqLabelWithNumbers": true,
   "eqNumInitial": 1,
   "hotkeys": {
    "equation": "Ctrl-E",
    "itemize": "Ctrl-I"
   },
   "labels_anchors": false,
   "latex_user_defs": false,
   "report_style_numbering": false,
   "user_envs_cfg": false
  }
 },
 "nbformat": 4,
 "nbformat_minor": 2
}